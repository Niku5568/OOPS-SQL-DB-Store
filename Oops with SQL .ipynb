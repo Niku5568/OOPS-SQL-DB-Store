{
 "cells": [
  {
   "cell_type": "markdown",
   "id": "c1264b1f-74bc-4958-b8a2-c16c5cc675ba",
   "metadata": {
    "jp-MarkdownHeadingCollapsed": true
   },
   "source": [
    "# signup and login form OOPS"
   ]
  },
  {
   "cell_type": "code",
   "execution_count": null,
   "id": "182a72b2-4927-4749-91cc-955b8e73e109",
   "metadata": {},
   "outputs": [],
   "source": [
    "class company:\n",
    "    def __init__(self):\n",
    "        print(\"company created\")\n",
    "        self.email=None\n",
    "        self.password=None\n",
    "        self.fullname=None\n",
    "        self.salary=None\n",
    "        self.designation=None\n",
    "        self.exp=None\n",
    "\n",
    "    def signup(self):\n",
    "        self.email=input(\"enter your email id\")\n",
    "        self.password=input(\"enter password\")\n",
    "        self.fullname=input(\"enter your full Name\")\n",
    "        self.salary==int(input(\"enter your salary\"))\n",
    "        self.designation=input(\"enter your designation\")\n",
    "        self.exp=input(\"enter your experince\")\n",
    "\n",
    "    def login(self):\n",
    "        login_id=input(\"enter your login id\")\n",
    "        login_pass=input(\"enter your login password\")\n",
    "        if login_id == self.email and login_pass==self.password:\n",
    "            print(\"Name: \",self.fullname)\n",
    "            print(\"Email ID: \", self.email)\n",
    "            print(\"Salary: \",self.salary)\n",
    "            print(\"Designation: \", self.designation)\n",
    "            print(\"Experiance: \", self.exp)\n",
    "        else:\n",
    "            print(\"employee not found\")\n",
    "\n",
    "c=company()\n",
    "while True:\n",
    "    choice=input(\"\"\"\n",
    "    1. Signup\n",
    "    2. Login\n",
    "    \"\"\")\n",
    "    if choice==\"1\":\n",
    "        c.signup()\n",
    "    elif choice==\"2\":\n",
    "        c.login()\n",
    "    elif choice==\"3\":\n",
    "        print(\"Exit\")\n",
    "        break\n",
    "\n",
    "        \n",
    "        "
   ]
  },
  {
   "cell_type": "markdown",
   "id": "cd62b337-c555-44d3-a1c7-472e096d808d",
   "metadata": {
    "jp-MarkdownHeadingCollapsed": true
   },
   "source": [
    "# SQl connectivity rough work"
   ]
  },
  {
   "cell_type": "code",
   "execution_count": 8,
   "id": "79ad0969-583e-4d47-9ede-af3dfd82a4c7",
   "metadata": {},
   "outputs": [
    {
     "name": "stdout",
     "output_type": "stream",
     "text": [
      "connected\n"
     ]
    }
   ],
   "source": [
    "import mysql.connector\n",
    "print(\"connected\")"
   ]
  },
  {
   "cell_type": "code",
   "execution_count": 10,
   "id": "bfba6498-f6b6-4267-899d-8bdc7bcd43e0",
   "metadata": {},
   "outputs": [
    {
     "data": {
      "text/plain": [
       "<mysql.connector.connection_cext.CMySQLConnection at 0x2080722ab50>"
      ]
     },
     "execution_count": 10,
     "metadata": {},
     "output_type": "execute_result"
    }
   ],
   "source": [
    "# connect with database\n",
    "myconn=mysql.connector.connect(user=\"root\",\n",
    "                        host=\"localhost\",\n",
    "                       password=\"system\",\n",
    "                              )\n",
    "myconn"
   ]
  },
  {
   "cell_type": "code",
   "execution_count": 12,
   "id": "979bde80-c7fa-4949-a6dd-45e380cf3ac3",
   "metadata": {},
   "outputs": [
    {
     "data": {
      "text/plain": [
       "<mysql.connector.cursor_cext.CMySQLCursor at 0x208048a75d0>"
      ]
     },
     "execution_count": 12,
     "metadata": {},
     "output_type": "execute_result"
    }
   ],
   "source": [
    "# create cursor\n",
    "csr=myconn.cursor()\n",
    "csr"
   ]
  },
  {
   "cell_type": "code",
   "execution_count": 14,
   "id": "1e196091-8820-456b-b224-5509fba4692c",
   "metadata": {},
   "outputs": [
    {
     "name": "stdout",
     "output_type": "stream",
     "text": [
      "New Database 'nishant' Created\n"
     ]
    }
   ],
   "source": [
    "# create database in commondline sql\n",
    "csr.execute(\"CREATE DATABASE IF NOT EXISTS nishant\")\n",
    "print(\"New Database 'nishant' Created\")\n",
    "csr.close()\n",
    "myconn.close()\n"
   ]
  },
  {
   "cell_type": "code",
   "execution_count": 16,
   "id": "5af56012-2a7a-411d-8529-356868948400",
   "metadata": {},
   "outputs": [],
   "source": [
    "# connect with database\n",
    "myconn = mysql.connector.connect(\n",
    "    user=\"root\",\n",
    "    host=\"localhost\",\n",
    "    password=\"system\",\n",
    "    database=\"nishant\"\n",
    ")\n",
    "csr = myconn.cursor()"
   ]
  },
  {
   "cell_type": "code",
   "execution_count": 18,
   "id": "f7bb76e5-2198-4a0f-9a63-35586beee9a2",
   "metadata": {},
   "outputs": [
    {
     "name": "stdout",
     "output_type": "stream",
     "text": [
      "Table 'nk' created now exists in your database.\n"
     ]
    }
   ],
   "source": [
    "# create table\n",
    "csr.execute('''\n",
    "    CREATE TABLE IF NOT EXISTS nk (\n",
    "        email VARCHAR(255) NOT NULL UNIQUE,\n",
    "        password VARCHAR(255) NOT NULL,\n",
    "        fullname VARCHAR(255),\n",
    "        salary FLOAT,\n",
    "        designation VARCHAR(255),\n",
    "        exp INT\n",
    "    )\n",
    "''')\n",
    "myconn.commit()  # Save changes to the database\n",
    "print(\"Table 'nk' created now exists in your database.\")"
   ]
  },
  {
   "cell_type": "code",
   "execution_count": 22,
   "id": "6a467263-068d-42b1-b52e-e36e626414d0",
   "metadata": {},
   "outputs": [
    {
     "name": "stdin",
     "output_type": "stream",
     "text": [
      "Enter your email id:  nishant@gmail.com\n",
      "Enter password:  1111\n",
      "Enter your full Name:  nishant\n",
      "Enter your salary:  25000\n",
      "Enter your designation:  da\n",
      "Enter your experience:  5\n"
     ]
    }
   ],
   "source": [
    "# insert data into data\n",
    "email = input(\"Enter your email id: \")\n",
    "password = input(\"Enter password: \")\n",
    "fullname = input(\"Enter your full Name: \")\n",
    "salary = float(input(\"Enter your salary: \"))\n",
    "designation = input(\"Enter your designation: \")\n",
    "exp = input(\"Enter your experience: \")  \n",
    "\n",
    "csr.execute('''\n",
    "    INSERT INTO nk (email, password, fullname, salary, designation, exp)\n",
    "    VALUES (%s, %s, %s, %s, %s, %s)\n",
    "''', (email, password, fullname, salary, designation, exp))\n",
    "myconn.commit()"
   ]
  },
  {
   "cell_type": "code",
   "execution_count": 26,
   "id": "23787654-1b61-40e9-90c6-0f70f175a096",
   "metadata": {},
   "outputs": [
    {
     "name": "stdin",
     "output_type": "stream",
     "text": [
      "Enter your login id:  nishant@gmail.com\n",
      "Enter your login password:  1111\n"
     ]
    },
    {
     "name": "stdout",
     "output_type": "stream",
     "text": [
      "Name:  nishant\n",
      "Email ID:  nishant@gmail.com\n",
      "Salary:  25000.0\n",
      "Designation:  da\n",
      "Experience:  5\n"
     ]
    }
   ],
   "source": [
    "# id and password match\n",
    "login_id = input(\"Enter your login id: \")\n",
    "login_pass = input(\"Enter your login password: \")\n",
    "\n",
    "# match login id and password with database\n",
    "csr.execute('''\n",
    "    SELECT fullname, email, salary, designation, exp \n",
    "    FROM nk \n",
    "    WHERE email = %s AND password = %s\n",
    "''', (login_id, login_pass))\n",
    "\n",
    "# extract data from database table if login details match\n",
    "user = csr.fetchone() # extact data from database table\n",
    "if user:\n",
    "    print(\"Name: \", user[0])\n",
    "    print(\"Email ID: \", user[1])\n",
    "    print(\"Salary: \", user[2])\n",
    "    print(\"Designation: \", user[3])\n",
    "    print(\"Experience: \", user[4])\n",
    "else:\n",
    "    print(\"Employee not found\")\n"
   ]
  },
  {
   "cell_type": "code",
   "execution_count": 47,
   "id": "adb68806-c392-4ba1-a848-e259377d40b5",
   "metadata": {},
   "outputs": [
    {
     "ename": "ProgrammingError",
     "evalue": "2055: Cursor is not connected",
     "output_type": "error",
     "traceback": [
      "\u001b[1;31m---------------------------------------------------------------------------\u001b[0m",
      "\u001b[1;31mProgrammingError\u001b[0m                          Traceback (most recent call last)",
      "File \u001b[1;32m~\\anaconda3\\Lib\\site-packages\\mysql\\connector\\cursor_cext.py:327\u001b[0m, in \u001b[0;36mCMySQLCursor.execute\u001b[1;34m(self, operation, params, multi)\u001b[0m\n\u001b[0;32m    326\u001b[0m     \u001b[38;5;28;01mif\u001b[39;00m \u001b[38;5;129;01mnot\u001b[39;00m \u001b[38;5;28mself\u001b[39m\u001b[38;5;241m.\u001b[39m_connection \u001b[38;5;129;01mor\u001b[39;00m \u001b[38;5;28mself\u001b[39m\u001b[38;5;241m.\u001b[39m_connection\u001b[38;5;241m.\u001b[39mis_closed():\n\u001b[1;32m--> 327\u001b[0m         \u001b[38;5;28;01mraise\u001b[39;00m ProgrammingError\n\u001b[0;32m    328\u001b[0m \u001b[38;5;28;01mexcept\u001b[39;00m (ProgrammingError, \u001b[38;5;167;01mReferenceError\u001b[39;00m) \u001b[38;5;28;01mas\u001b[39;00m err:\n",
      "\u001b[1;31mProgrammingError\u001b[0m: Unknown error",
      "\nThe above exception was the direct cause of the following exception:\n",
      "\u001b[1;31mProgrammingError\u001b[0m                          Traceback (most recent call last)",
      "Cell \u001b[1;32mIn[47], line 2\u001b[0m\n\u001b[0;32m      1\u001b[0m \u001b[38;5;66;03m# delete emp data\u001b[39;00m\n\u001b[1;32m----> 2\u001b[0m csr\u001b[38;5;241m.\u001b[39mexecute(\u001b[38;5;124m\"\u001b[39m\u001b[38;5;124mdelete from empdata where fullname = \u001b[39m\u001b[38;5;124m'\u001b[39m\u001b[38;5;124maaradhya\u001b[39m\u001b[38;5;124m'\u001b[39m\u001b[38;5;124m \u001b[39m\u001b[38;5;124m\"\u001b[39m)\n\u001b[0;32m      3\u001b[0m myconn\u001b[38;5;241m.\u001b[39mcommit()\n\u001b[0;32m      4\u001b[0m \u001b[38;5;28mprint\u001b[39m(\u001b[38;5;124m\"\u001b[39m\u001b[38;5;124m emp \u001b[39m\u001b[38;5;124m'\u001b[39m\u001b[38;5;124maaradhya\u001b[39m\u001b[38;5;124m'\u001b[39m\u001b[38;5;124m deleted \u001b[39m\u001b[38;5;124m\"\u001b[39m)\n",
      "File \u001b[1;32m~\\anaconda3\\Lib\\site-packages\\mysql\\connector\\cursor_cext.py:329\u001b[0m, in \u001b[0;36mCMySQLCursor.execute\u001b[1;34m(self, operation, params, multi)\u001b[0m\n\u001b[0;32m    327\u001b[0m         \u001b[38;5;28;01mraise\u001b[39;00m ProgrammingError\n\u001b[0;32m    328\u001b[0m \u001b[38;5;28;01mexcept\u001b[39;00m (ProgrammingError, \u001b[38;5;167;01mReferenceError\u001b[39;00m) \u001b[38;5;28;01mas\u001b[39;00m err:\n\u001b[1;32m--> 329\u001b[0m     \u001b[38;5;28;01mraise\u001b[39;00m ProgrammingError(\u001b[38;5;124m\"\u001b[39m\u001b[38;5;124mCursor is not connected\u001b[39m\u001b[38;5;124m\"\u001b[39m, \u001b[38;5;241m2055\u001b[39m) \u001b[38;5;28;01mfrom\u001b[39;00m \u001b[38;5;21;01merr\u001b[39;00m\n\u001b[0;32m    330\u001b[0m \u001b[38;5;28mself\u001b[39m\u001b[38;5;241m.\u001b[39m_connection\u001b[38;5;241m.\u001b[39mhandle_unread_result()\n\u001b[0;32m    332\u001b[0m stmt \u001b[38;5;241m=\u001b[39m \u001b[38;5;124mb\u001b[39m\u001b[38;5;124m\"\u001b[39m\u001b[38;5;124m\"\u001b[39m\n",
      "\u001b[1;31mProgrammingError\u001b[0m: 2055: Cursor is not connected"
     ]
    }
   ],
   "source": [
    "# delete emp data\n",
    "csr.execute(\"delete from empdata where fullname = 'aaradhya' \")\n",
    "myconn.commit()\n",
    "print(\" emp 'aaradhya' deleted \")"
   ]
  },
  {
   "cell_type": "code",
   "execution_count": 30,
   "id": "f2181ae3-4148-4d98-8f92-571055459107",
   "metadata": {},
   "outputs": [
    {
     "ename": "NameError",
     "evalue": "name 'c' is not defined",
     "output_type": "error",
     "traceback": [
      "\u001b[1;31m---------------------------------------------------------------------------\u001b[0m",
      "\u001b[1;31mNameError\u001b[0m                                 Traceback (most recent call last)",
      "Cell \u001b[1;32mIn[30], line 2\u001b[0m\n\u001b[0;32m      1\u001b[0m \u001b[38;5;66;03m# update emp data\u001b[39;00m\n\u001b[1;32m----> 2\u001b[0m c\u001b[38;5;241m.\u001b[39mexecute(\u001b[38;5;124m\"\u001b[39m\u001b[38;5;124mUpdate empdata set fullname= \u001b[39m\u001b[38;5;124m'\u001b[39m\u001b[38;5;124mnishant kumar\u001b[39m\u001b[38;5;124m'\u001b[39m\u001b[38;5;124m where fullname=\u001b[39m\u001b[38;5;124m'\u001b[39m\u001b[38;5;124mnishant\u001b[39m\u001b[38;5;124m'\u001b[39m\u001b[38;5;124m \u001b[39m\u001b[38;5;124m\"\u001b[39m)\n\u001b[0;32m      3\u001b[0m con\u001b[38;5;241m.\u001b[39mcommit() \n\u001b[0;32m      4\u001b[0m \u001b[38;5;28mprint\u001b[39m(\u001b[38;5;124m\"\u001b[39m\u001b[38;5;124m \u001b[39m\u001b[38;5;124m'\u001b[39m\u001b[38;5;124mnishant kumar\u001b[39m\u001b[38;5;124m'\u001b[39m\u001b[38;5;124m updated in empdata \u001b[39m\u001b[38;5;124m\"\u001b[39m)\n",
      "\u001b[1;31mNameError\u001b[0m: name 'c' is not defined"
     ]
    }
   ],
   "source": [
    "# update emp data\n",
    "c.execute(\"Update empdata set fullname= 'nishant kumar' where fullname='nishant' \")\n",
    "con.commit() \n",
    "print(\" 'nishant kumar' updated in empdata \")"
   ]
  },
  {
   "cell_type": "code",
   "execution_count": 32,
   "id": "62055388-d11d-44a7-9742-15acf1c36912",
   "metadata": {},
   "outputs": [
    {
     "name": "stdout",
     "output_type": "stream",
     "text": [
      "('nishant@gmail.com', '1111', 'nishant', 25000.0, 'da', 5)\n"
     ]
    }
   ],
   "source": [
    "# show all data from database table\n",
    "csr.execute(\"SELECT * FROM nk\")\n",
    "data=csr.fetchall()\n",
    "for i in data:\n",
    "    print(i)\n",
    "\n",
    "\n",
    "    \n",
    "    # print(i[0])\n",
    "    # print(i[1])\n",
    "    # print(i[2])\n",
    "    # print(i[3])\n",
    "    # print(i[4])\n",
    "    # print(i[5])\n",
    "    # print(\"\"\"..................\"\"\")\n",
    "    # print()    "
   ]
  },
  {
   "cell_type": "code",
   "execution_count": 34,
   "id": "1d7e1bc4-2c7c-4b5e-937e-4c063e6f22e1",
   "metadata": {},
   "outputs": [
    {
     "name": "stdout",
     "output_type": "stream",
     "text": [
      "database closed\n"
     ]
    }
   ],
   "source": [
    "# close database\n",
    "myconn.close()\n",
    "print(\"database closed\")"
   ]
  },
  {
   "cell_type": "code",
   "execution_count": 36,
   "id": "906fab10-53e2-48a6-bed5-85f315395383",
   "metadata": {},
   "outputs": [
    {
     "name": "stdin",
     "output_type": "stream",
     "text": [
      "Enter your login id:  nishant@gmail.com\n",
      "Enter your login password:  1111\n"
     ]
    },
    {
     "ename": "ProgrammingError",
     "evalue": "2055: Cursor is not connected",
     "output_type": "error",
     "traceback": [
      "\u001b[1;31m---------------------------------------------------------------------------\u001b[0m",
      "\u001b[1;31mProgrammingError\u001b[0m                          Traceback (most recent call last)",
      "File \u001b[1;32m~\\anaconda3\\Lib\\site-packages\\mysql\\connector\\cursor_cext.py:327\u001b[0m, in \u001b[0;36mCMySQLCursor.execute\u001b[1;34m(self, operation, params, multi)\u001b[0m\n\u001b[0;32m    326\u001b[0m     \u001b[38;5;28;01mif\u001b[39;00m \u001b[38;5;129;01mnot\u001b[39;00m \u001b[38;5;28mself\u001b[39m\u001b[38;5;241m.\u001b[39m_connection \u001b[38;5;129;01mor\u001b[39;00m \u001b[38;5;28mself\u001b[39m\u001b[38;5;241m.\u001b[39m_connection\u001b[38;5;241m.\u001b[39mis_closed():\n\u001b[1;32m--> 327\u001b[0m         \u001b[38;5;28;01mraise\u001b[39;00m ProgrammingError\n\u001b[0;32m    328\u001b[0m \u001b[38;5;28;01mexcept\u001b[39;00m (ProgrammingError, \u001b[38;5;167;01mReferenceError\u001b[39;00m) \u001b[38;5;28;01mas\u001b[39;00m err:\n",
      "\u001b[1;31mProgrammingError\u001b[0m: Unknown error",
      "\nThe above exception was the direct cause of the following exception:\n",
      "\u001b[1;31mProgrammingError\u001b[0m                          Traceback (most recent call last)",
      "Cell \u001b[1;32mIn[36], line 6\u001b[0m\n\u001b[0;32m      3\u001b[0m login_pass \u001b[38;5;241m=\u001b[39m \u001b[38;5;28minput\u001b[39m(\u001b[38;5;124m\"\u001b[39m\u001b[38;5;124mEnter your login password: \u001b[39m\u001b[38;5;124m\"\u001b[39m)\n\u001b[0;32m      5\u001b[0m \u001b[38;5;66;03m# match login id and password with database\u001b[39;00m\n\u001b[1;32m----> 6\u001b[0m csr\u001b[38;5;241m.\u001b[39mexecute(\u001b[38;5;124m'''\u001b[39m\n\u001b[0;32m      7\u001b[0m \u001b[38;5;124m    SELECT fullname, email, salary, designation, exp \u001b[39m\n\u001b[0;32m      8\u001b[0m \u001b[38;5;124m    FROM nk \u001b[39m\n\u001b[0;32m      9\u001b[0m \u001b[38;5;124m    WHERE email = \u001b[39m\u001b[38;5;132;01m%s\u001b[39;00m\u001b[38;5;124m AND password = \u001b[39m\u001b[38;5;132;01m%s\u001b[39;00m\n\u001b[0;32m     10\u001b[0m \u001b[38;5;124m'''\u001b[39m, (login_id, login_pass))\n\u001b[0;32m     12\u001b[0m \u001b[38;5;66;03m# extract data from database table if login details match\u001b[39;00m\n\u001b[0;32m     13\u001b[0m user \u001b[38;5;241m=\u001b[39m csr\u001b[38;5;241m.\u001b[39mfetchone() \u001b[38;5;66;03m# extact data from database table\u001b[39;00m\n",
      "File \u001b[1;32m~\\anaconda3\\Lib\\site-packages\\mysql\\connector\\cursor_cext.py:329\u001b[0m, in \u001b[0;36mCMySQLCursor.execute\u001b[1;34m(self, operation, params, multi)\u001b[0m\n\u001b[0;32m    327\u001b[0m         \u001b[38;5;28;01mraise\u001b[39;00m ProgrammingError\n\u001b[0;32m    328\u001b[0m \u001b[38;5;28;01mexcept\u001b[39;00m (ProgrammingError, \u001b[38;5;167;01mReferenceError\u001b[39;00m) \u001b[38;5;28;01mas\u001b[39;00m err:\n\u001b[1;32m--> 329\u001b[0m     \u001b[38;5;28;01mraise\u001b[39;00m ProgrammingError(\u001b[38;5;124m\"\u001b[39m\u001b[38;5;124mCursor is not connected\u001b[39m\u001b[38;5;124m\"\u001b[39m, \u001b[38;5;241m2055\u001b[39m) \u001b[38;5;28;01mfrom\u001b[39;00m \u001b[38;5;21;01merr\u001b[39;00m\n\u001b[0;32m    330\u001b[0m \u001b[38;5;28mself\u001b[39m\u001b[38;5;241m.\u001b[39m_connection\u001b[38;5;241m.\u001b[39mhandle_unread_result()\n\u001b[0;32m    332\u001b[0m stmt \u001b[38;5;241m=\u001b[39m \u001b[38;5;124mb\u001b[39m\u001b[38;5;124m\"\u001b[39m\u001b[38;5;124m\"\u001b[39m\n",
      "\u001b[1;31mProgrammingError\u001b[0m: 2055: Cursor is not connected"
     ]
    }
   ],
   "source": [
    "# id and password match\n",
    "login_id = input(\"Enter your login id: \")\n",
    "login_pass = input(\"Enter your login password: \")\n",
    "\n",
    "# match login id and password with database\n",
    "csr.execute('''\n",
    "    SELECT fullname, email, salary, designation, exp \n",
    "    FROM nk \n",
    "    WHERE email = %s AND password = %s\n",
    "''', (login_id, login_pass))\n",
    "\n",
    "# extract data from database table if login details match\n",
    "user = csr.fetchone() # extact data from database table\n",
    "if user:\n",
    "    print(\"Name: \", user[0])\n",
    "    print(\"Email ID: \", user[1])\n",
    "    print(\"Salary: \", user[2])\n",
    "    print(\"Designation: \", user[3])\n",
    "    print(\"Experience: \", user[4])\n",
    "else:\n",
    "    print(\"Employee not found\")\n"
   ]
  },
  {
   "cell_type": "markdown",
   "id": "3597c940-2010-4faf-9872-73692a0d9213",
   "metadata": {
    "jp-MarkdownHeadingCollapsed": true
   },
   "source": [
    "# store user login data in existing database "
   ]
  },
  {
   "cell_type": "code",
   "execution_count": null,
   "id": "aa286aed-ee40-4f94-a456-c1d60c5a4311",
   "metadata": {},
   "outputs": [],
   "source": [
    "import mysql.connector\n",
    "\n",
    "class Company:\n",
    "    def __init__(self):\n",
    "        self.database_name=input(\"Enter Your Database Name\")\n",
    "        self.conn = mysql.connector.connect(\n",
    "            user=\"root\",\n",
    "            host=\"localhost\",\n",
    "            password=\"system\",\n",
    "            database= self.database_name # create database and to store data\n",
    "        )\n",
    "        self.cursor = self.conn.cursor() # \n",
    "        self.create_table()\n",
    "\n",
    "    def create_table(self):\n",
    "        self.table_name=input(\"enter table name\")\n",
    "        self.cursor.execute(f'''\n",
    "            CREATE TABLE IF NOT EXISTS {self.table_name} (email VARCHAR(255) NOT NULL UNIQUE,\n",
    "                password INT NOT NULL,\n",
    "                fullname VARCHAR(255),\n",
    "                salary FLOAT,\n",
    "                designation VARCHAR(255),\n",
    "                exp INT\n",
    "            )\n",
    "        ''') # create table in database\n",
    "        self.conn.commit() # save data in database\n",
    "\n",
    "    def signup(self):\n",
    "        self.email = input(\"Enter your email id: \")\n",
    "        self.password = input(\"Enter password: \")\n",
    "        self.fullname = input(\"Enter your full Name: \")\n",
    "        self.salary = float(input(\"Enter your salary: \"))\n",
    "        self.designation = input(\"Enter your designation: \")\n",
    "        self.exp = input(\"Enter your experience: \")      \n",
    "        self.cursor.execute(f'''\n",
    "            INSERT INTO {self.table_name} (email, password, fullname, salary, designation, exp)\n",
    "            VALUES (%s, %s, %s, %s, %s, %s)\n",
    "        ''', (self.email, self.password, self.fullname, self.salary, self.designation, self.exp)) # inser data into table\n",
    "        self.conn.commit() # save store data\n",
    "        print(\"account create ho gya h...\")\n",
    "\n",
    "    def login(self):\n",
    "        login_id = input(\"Enter your login id: \")\n",
    "        login_pass = input(\"Enter your login password: \")\n",
    "        self.cursor.execute(f'''\n",
    "            SELECT fullname, email, salary, designation, exp \n",
    "            FROM {self.table_name} \n",
    "            WHERE email = %s AND password = %s\n",
    "        ''', (login_id, login_pass)) # match login id and password\n",
    "        print(\"Login bhi ho gya bhai detail dekh le bhai apni\")\n",
    "\n",
    "        user = self.cursor.fetchone() # extact data from database table\n",
    "        if user:\n",
    "            print(\"Name: \", user[0])\n",
    "            print(\"Email ID: \", user[1])\n",
    "            print(\"Salary: \", user[2])\n",
    "            print(\"Designation: \", user[3])\n",
    "            print(\"Experience: \", user[4])\n",
    "        else:\n",
    "            print(\"Employee not found\")\n",
    "\n",
    "    def close_connection(self):\n",
    "        self.conn.close() # close database\n",
    "\n",
    "    def all_emp(self):\n",
    "        self.cursor.execute(f\"SELECT * FROM {self.table_name}\")\n",
    "        emp=self.cursor.fetchall() \n",
    "        if emp:\n",
    "            for i in emp:\n",
    "                print(i)\n",
    "        else:\n",
    "            print(\"Employee data not available\")\n",
    "\n",
    "    def delete_data(self):\n",
    "        emp_name=input(\"enter emp name\")\n",
    "        self.cursor.execute(f\"delete from {self.table_name} where fullname = %s\",(emp_name,))\n",
    "        self.conn.commit()\n",
    "        print(f\"{emp_name} deleted from table{self.table_name}\")\n",
    "\n",
    "\n",
    "c = Company()\n",
    "while True:\n",
    "    choice = input(\"\"\"\n",
    "    1. Signup\n",
    "    2. Login\n",
    "    3. Show all emp\n",
    "    4. Delete Employee\n",
    "    5. Exit\n",
    "    \"\"\")\n",
    "    if choice == \"1\":\n",
    "        c.signup()\n",
    "    elif choice == \"2\":\n",
    "        c.login()\n",
    "    elif choice == \"3\":\n",
    "        c.all_emp()\n",
    "    elif choice == \"4\":\n",
    "        c.delete_data()\n",
    "    elif choice == \"5\":\n",
    "        print(\"details dekh li ab ghar ja bhai\")\n",
    "        c.close_connection()\n",
    "        break\n",
    "    else:\n",
    "        print(\"galt number dal dia yrr\")\n"
   ]
  },
  {
   "cell_type": "markdown",
   "id": "1034d24f-830e-480f-8aec-b9c478d73c71",
   "metadata": {
    "jp-MarkdownHeadingCollapsed": true
   },
   "source": [
    "# create database and table from here"
   ]
  },
  {
   "cell_type": "code",
   "execution_count": 43,
   "id": "2c50f817-3716-4615-80b0-429729490e7c",
   "metadata": {},
   "outputs": [
    {
     "name": "stdin",
     "output_type": "stream",
     "text": [
      "Enter database name:  company\n"
     ]
    },
    {
     "name": "stdout",
     "output_type": "stream",
     "text": [
      "Database created\n"
     ]
    },
    {
     "name": "stdin",
     "output_type": "stream",
     "text": [
      "enter table name empdata\n"
     ]
    },
    {
     "name": "stdout",
     "output_type": "stream",
     "text": [
      "Table bhi create ho gya bhai\n"
     ]
    },
    {
     "name": "stdin",
     "output_type": "stream",
     "text": [
      "\n",
      "    1. Signup\n",
      "    2. Login\n",
      "    3. Show all emp\n",
      "    4. Update details\n",
      "    5. Delete Employee\n",
      "    6. Exit\n",
      "     1\n",
      "Enter your email id:  nishant@gmail.com\n",
      "Enter password:  1111\n",
      "Enter your full Name:  nishant\n",
      "Enter your salary:  30000\n",
      "Enter your designation:  da\n",
      "Enter your experience:  1\n"
     ]
    },
    {
     "name": "stdout",
     "output_type": "stream",
     "text": [
      "account create ho gya h...\n"
     ]
    },
    {
     "name": "stdin",
     "output_type": "stream",
     "text": [
      "\n",
      "    1. Signup\n",
      "    2. Login\n",
      "    3. Show all emp\n",
      "    4. Update details\n",
      "    5. Delete Employee\n",
      "    6. Exit\n",
      "     3\n"
     ]
    },
    {
     "name": "stdout",
     "output_type": "stream",
     "text": [
      "('nishant@gmail.com', '1111', 'nishant', 30000.0, 'da', 1)\n"
     ]
    },
    {
     "name": "stdin",
     "output_type": "stream",
     "text": [
      "\n",
      "    1. Signup\n",
      "    2. Login\n",
      "    3. Show all emp\n",
      "    4. Update details\n",
      "    5. Delete Employee\n",
      "    6. Exit\n",
      "     6\n"
     ]
    },
    {
     "name": "stdout",
     "output_type": "stream",
     "text": [
      "details dekh li ab ghar ja bhai\n"
     ]
    }
   ],
   "source": [
    "import mysql.connector\n",
    "\n",
    "class Company:\n",
    "    database_name = input(\"Enter database name: \")\n",
    "    def __init__(self):\n",
    "        self.create_database()\n",
    "        self.database_name=Company.database_name\n",
    "        self.conn = mysql.connector.connect(\n",
    "            user=\"root\",\n",
    "            host=\"localhost\",\n",
    "            password=\"system\",\n",
    "            database=self.database_name  # Now connect to the created database\n",
    "        )\n",
    "        self.cursor = self.conn.cursor() \n",
    "        self.create_table()\n",
    "\n",
    "\n",
    "    def create_database(self):\n",
    "        conn = mysql.connector.connect(\n",
    "            user=\"root\",\n",
    "            host=\"localhost\",\n",
    "            password=\"system\"        ) # connect with sql server\n",
    "        \n",
    "        cursor = conn.cursor() # create cursor\n",
    "\n",
    "        cursor.execute(f\"CREATE DATABASE IF NOT EXISTS {self.database_name}\") # create new database in sql\n",
    "        print(\"Database created\")\n",
    "\n",
    "        cursor.close()\n",
    "        conn.close() \n",
    "\n",
    "    def create_table(self):\n",
    "        self.table_name=input(\"enter table name\") \n",
    "        self.cursor.execute(f'''\n",
    "            CREATE TABLE IF NOT EXISTS {self.table_name} (\n",
    "                email VARCHAR(255) NOT NULL UNIQUE,\n",
    "                password VARCHAR(255) NOT NULL,\n",
    "                fullname VARCHAR(255),\n",
    "                salary FLOAT,\n",
    "                designation VARCHAR(255),\n",
    "                exp INT\n",
    "            )\n",
    "        ''')  # Create table in database\n",
    "        self.conn.commit()  # Save changes to the database\n",
    "        print(\"Table bhi create ho gya bhai\")\n",
    "\n",
    "    def signup(self):\n",
    "        self.email = input(\"Enter your email id: \")\n",
    "        self.password = input(\"Enter password: \")\n",
    "        self.fullname = input(\"Enter your full Name: \")\n",
    "        self.salary = float(input(\"Enter your salary: \"))\n",
    "        self.designation = input(\"Enter your designation: \")\n",
    "        self.exp = input(\"Enter your experience: \")      \n",
    "        self.cursor.execute(f'''\n",
    "            INSERT INTO {self.table_name} (email, password, fullname, salary, designation, exp)\n",
    "            VALUES (%s, %s, %s, %s, %s, %s)\n",
    "        ''', (self.email, self.password, self.fullname, self.salary, self.designation, self.exp)) # inser data into table\n",
    "        self.conn.commit() # save store data\n",
    "        print(\"account create ho gya h...\")\n",
    "\n",
    "    def login(self):\n",
    "        login_id = input(\"Enter your login id: \")\n",
    "        login_pass = input(\"Enter your login password: \")\n",
    "        self.cursor.execute(f'''\n",
    "            SELECT fullname, email, salary, designation, exp \n",
    "            FROM {self.table_name} \n",
    "            WHERE email = %s AND password = %s\n",
    "        ''', (login_id, login_pass)) # match login id and password\n",
    "        print(\"Login bhi ho gya bhai detail dekh lo apni\")\n",
    "\n",
    "        user = self.cursor.fetchone() # extact data from database table\n",
    "        if user:\n",
    "            print(\"Name: \", user[0])\n",
    "            print(\"Email ID: \", user[1])\n",
    "            print(\"Salary: \", user[2])\n",
    "            print(\"Designation: \", user[3])\n",
    "            print(\"Experience: \", user[4])\n",
    "        else:\n",
    "            print(\"Employee not found\")\n",
    "\n",
    "    def close_connection(self):\n",
    "        self.conn.close() # close database\n",
    "\n",
    "\n",
    "    def all_emp(self):\n",
    "        self.cursor.execute(f\"SELECT * FROM {self.table_name}\")\n",
    "        emp=self.cursor.fetchall() \n",
    "        if emp:\n",
    "            for i in emp:\n",
    "                print(i)\n",
    "        else:\n",
    "            print(\"Employee data not available\")\n",
    "\n",
    "    def delete_data(self):\n",
    "        emp_name=input(\"enter emp name\")\n",
    "        self.cursor.execute(f\"delete from {self.table_name} where fullname = %s\",(emp_name,))\n",
    "        self.conn.commit()\n",
    "        print(f\"{emp_name} deleted from table{self.table_name}\")\n",
    "\n",
    "\n",
    "    def update_data(self):\n",
    "        data=input(\"\"\"\n",
    "        1. Name\n",
    "        2. Salary\n",
    "        3. Designation\n",
    "        4. Experiance\n",
    "                \"\"\")\n",
    "        if data ==\"1\":\n",
    "            new_name=input(\"enter new name\")\n",
    "            old_name=input(\"enter old name\")            \n",
    "            self.cursor.execute(f\"UPDATE {self.table_name} SET fullname = %s where fullname= %s\",(new_name,old_name,))\n",
    "            self.conn.commit()\n",
    "            print(f\"{new_name} updated in table{self.table_name}\")\n",
    "\n",
    "        elif data ==\"2\":\n",
    "            new_salary=input(\"enter salary\")\n",
    "            name=input(\"enter new name\")\n",
    "            self.cursor.execute(f\"UPDATE {self.table_name} SET salary = %s where fullname= %s\",(new_salary,name,))\n",
    "            self.conn.commit()\n",
    "            print(f\"{new_salary} updated in table{self.table_name}\")\n",
    "\n",
    "        elif data ==\"3\":\n",
    "            new_Designation=input(\"enter Designation\")\n",
    "            name=input(\"enter new name\")\n",
    "            self.cursor.execute(f\"UPDATE {self.table_name} SET designation = %s where fullname= %s\",(new_Designation,name,))\n",
    "            self.conn.commit()\n",
    "            print(f\"{new_Designation} updated in table{self.table_name}\")\n",
    "\n",
    "        elif data ==\"4\":\n",
    "            new_Experience=input(\"enter Experience\")\n",
    "            name=input(\"enter new name\")\n",
    "            self.cursor.execute(f\"UPDATE {self.table_name} SET exp = %s where fullname= %s\",(new_Experience,name,))\n",
    "            self.conn.commit()\n",
    "            print(f\"{new_Experience} updated in table{self.table_name}\")\n",
    "\n",
    "c = Company()\n",
    "while True:\n",
    "    choice = input(\"\"\"\n",
    "    1. Signup\n",
    "    2. Login\n",
    "    3. Show all emp\n",
    "    4. Update details\n",
    "    5. Delete Employee\n",
    "    6. Exit\n",
    "    \"\"\")\n",
    "    if choice == \"1\":\n",
    "        c.signup()\n",
    "    elif choice == \"2\":\n",
    "        c.login()\n",
    "    elif choice == \"3\":\n",
    "        c.all_emp()\n",
    "    elif choice == \"4\":\n",
    "        c.update_data()\n",
    "    elif choice == \"5\":\n",
    "        c.delete_data()\n",
    "    elif choice == \"6\":\n",
    "        print(\"details dekh li ab ghar ja bhai\")\n",
    "        c.close_connection()\n",
    "        break\n",
    "    else:\n",
    "        print(\"galt number dal dia yrr\")"
   ]
  },
  {
   "cell_type": "code",
   "execution_count": null,
   "id": "52687dd8-f158-4029-8654-182848c30515",
   "metadata": {},
   "outputs": [],
   "source": []
  }
 ],
 "metadata": {
  "kernelspec": {
   "display_name": "Python 3 (ipykernel)",
   "language": "python",
   "name": "python3"
  },
  "language_info": {
   "codemirror_mode": {
    "name": "ipython",
    "version": 3
   },
   "file_extension": ".py",
   "mimetype": "text/x-python",
   "name": "python",
   "nbconvert_exporter": "python",
   "pygments_lexer": "ipython3",
   "version": "3.11.7"
  }
 },
 "nbformat": 4,
 "nbformat_minor": 5
}
